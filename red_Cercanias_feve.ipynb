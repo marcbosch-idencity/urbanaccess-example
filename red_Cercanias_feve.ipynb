{
 "cells": [
  {
   "cell_type": "code",
   "execution_count": 1,
   "id": "general-trunk",
   "metadata": {},
   "outputs": [],
   "source": [
    "# importar librerías\n",
    "import pandas as pd\n",
    "import geopandas as gpd\n",
    "import urbanaccess as ua\n",
    "import pandana as pdna\n",
    "import matplotlib.pyplot as plt\n",
    "from IPython.core.interactiveshell import InteractiveShell\n",
    "InteractiveShell.ast_node_interactivity = \"all\"\n",
    "gpd.options.use_pygeos = True\n",
    "from urbanaccess.config import settings\n",
    "from urbanaccess.gtfsfeeds import feeds\n",
    "from urbanaccess import gtfsfeeds\n",
    "from urbanaccess.gtfs.gtfsfeeds_dataframe import gtfsfeeds_dfs\n",
    "from urbanaccess.network import ua_network, load_network\n",
    "import ssl\n",
    "ssl._create_default_https_context = ssl._create_unverified_context"
   ]
  },
  {
   "cell_type": "code",
   "execution_count": 2,
   "id": "massive-highway",
   "metadata": {},
   "outputs": [
    {
     "data": {
      "text/plain": [
       "{'data_folder': 'data',\n",
       " 'logs_folder': 'logs',\n",
       " 'log_file': True,\n",
       " 'log_console': False,\n",
       " 'log_name': 'urbanaccess',\n",
       " 'log_filename': 'urbanaccess',\n",
       " 'txt_encoding': 'utf-8',\n",
       " 'gtfs_api': {'gtfsdataexch': 'http://www.gtfs-data-exchange.com/api/agencies?format=csv'}}"
      ]
     },
     "execution_count": 2,
     "metadata": {},
     "output_type": "execute_result"
    },
    {
     "data": {
      "text/plain": [
       "{'gtfs_feeds': {}}"
      ]
     },
     "execution_count": 2,
     "metadata": {},
     "output_type": "execute_result"
    }
   ],
   "source": [
    "settings.to_dict()\n",
    "feeds.to_dict()"
   ]
  },
  {
   "cell_type": "code",
   "execution_count": 3,
   "id": "spoken-pension",
   "metadata": {},
   "outputs": [
    {
     "name": "stdout",
     "output_type": "stream",
     "text": [
      "Added 1 feeds to gtfs_feeds: {'cercanias': 'https://ssl.renfe.com/ftransit/Fichero_CER_FOMENTO/fomento_transit.zip'}\n"
     ]
    }
   ],
   "source": [
    "feeds.add_feed(add_dict={'cercanias': 'https://ssl.renfe.com/ftransit/Fichero_CER_FOMENTO/fomento_transit.zip'})\n"
   ]
  },
  {
   "cell_type": "code",
   "execution_count": 4,
   "id": "fresh-insurance",
   "metadata": {},
   "outputs": [
    {
     "data": {
      "text/plain": [
       "{'gtfs_feeds': {'cercanias': 'https://ssl.renfe.com/ftransit/Fichero_CER_FOMENTO/fomento_transit.zip'}}"
      ]
     },
     "execution_count": 4,
     "metadata": {},
     "output_type": "execute_result"
    }
   ],
   "source": [
    "feeds.to_dict()"
   ]
  },
  {
   "cell_type": "code",
   "execution_count": 5,
   "id": "differential-dragon",
   "metadata": {},
   "outputs": [
    {
     "name": "stdout",
     "output_type": "stream",
     "text": [
      "data\\gtfsfeed_zips does not exist. Directory was created\n",
      "1 GTFS feed(s) will be downloaded here: data\\gtfsfeed_zips\n",
      "cercanias GTFS feed downloaded successfully. Took 5.81 seconds for 9,666,295.0KB\n",
      "GTFS feed download completed. Took 5.81 seconds\n",
      "data\\gtfsfeed_text does not exist. Directory was created\n",
      "cercanias.zip successfully extracted to: data\\gtfsfeed_text\\cercanias\n",
      "GTFS feed zipfile extraction completed. Took 0.25 seconds for 1 files\n"
     ]
    }
   ],
   "source": [
    "gtfsfeeds.download()"
   ]
  },
  {
   "cell_type": "code",
   "execution_count": 6,
   "id": "cooperative-wonder",
   "metadata": {},
   "outputs": [
    {
     "name": "stdout",
     "output_type": "stream",
     "text": [
      "Checking GTFS text file header whitespace... Reading files using encoding: utf-8 set in configuration.\n",
      "GTFS text file header whitespace check completed. Took 0.25 seconds\n",
      "--------------------------------\n",
      "Processing GTFS feed: cercanias\n",
      "The unique agency id: renfe_cercanias was generated using the name of the agency in the agency.txt file.\n",
      "Unique agency id operation complete. Took 0.04 seconds\n",
      "Unique GTFS feed id operation complete. Took 0.02 seconds\n",
      "No GTFS feed stops were found to be outside the bounding box coordinates\n",
      "cercanias GTFS feed stops: coordinates are in northwest hemisphere. Latitude = North (90); Longitude = West (-90).\n",
      "cercanias GTFS feed stops: coordinates are in northeast hemisphere. Latitude = North (90); Longitude = East (90).\n",
      "Appended route type to stops\n",
      "Appended route type to stop_times\n",
      "--------------------------------\n",
      "Added descriptive definitions to stops, routes, stop_times, and trips tables\n",
      "Successfully converted ['departure_time'] to seconds past midnight and appended new columns to stop_times. Took 2.82 seconds\n",
      "1 GTFS feed file(s) successfully read as dataframes:\n",
      "     cercanias\n",
      "     Took 5.23 seconds\n"
     ]
    }
   ],
   "source": [
    "#crear xarxa\n",
    "validation = True\n",
    "verbose = True\n",
    "bbox = (-9.83,35.98,4.89,44.04)\n",
    "remove_stops_outsidebbox = True\n",
    "append_definitions = True\n",
    "\n",
    "loaded_feeds = ua.gtfs.load.gtfsfeed_to_df(gtfsfeed_path=None,\n",
    "                                           validation=validation,\n",
    "                                           verbose=verbose,\n",
    "                                           bbox=bbox,\n",
    "                                           remove_stops_outsidebbox=remove_stops_outsidebbox,\n",
    "                                           append_definitions=append_definitions)"
   ]
  },
  {
   "cell_type": "code",
   "execution_count": 7,
   "id": "accessory-television",
   "metadata": {},
   "outputs": [
    {
     "data": {
      "text/plain": [
       "<AxesSubplot:xlabel='stop_lon', ylabel='stop_lat'>"
      ]
     },
     "execution_count": 7,
     "metadata": {},
     "output_type": "execute_result"
    },
    {
     "data": {
      "image/png": "[encoded data removed]",
      "text/plain": [
       "<Figure size 432x288 with 1 Axes>"
      ]
     },
     "metadata": {
      "needs_background": "light"
     },
     "output_type": "display_data"
    }
   ],
   "source": [
    "loaded_feeds.stops.plot(kind='scatter', x='stop_lon', y='stop_lat', s=0.1)"
   ]
  },
  {
   "cell_type": "code",
   "execution_count": 8,
   "id": "brazilian-concentrate",
   "metadata": {},
   "outputs": [
    {
     "name": "stdout",
     "output_type": "stream",
     "text": [
      "WARNING: Time range passed: ['00:00:00', '23:59:59'] is a 23 hour period. Long periods over 3 hours may take a significant amount of time to process.\n",
      "Using calendar to extract service_ids to select trips.\n",
      "48 service_ids were extracted from calendar\n",
      "14,057 trip(s) 14.47 percent of 97,135 total trip records were found in calendar for GTFS feed(s): ['cercanias']\n",
      "NOTE: If you expected more trips to have been extracted and your GTFS feed(s) have a calendar_dates file, consider utilizing the calendar_dates_lookup parameter in order to add additional trips based on information inside of calendar_dates. This should only be done if you know the corresponding GTFS feed is using calendar_dates instead of calendar to specify service_ids. When in doubt do not use the calendar_dates_lookup parameter.\n",
      "14,057 of 97,135 total trips were extracted representing calendar day: tuesday. Took 0.09 seconds\n",
      "There are no departure time records missing from trips following the specified schedule. There are no records to interpolate.\n",
      "Difference between stop times has been successfully calculated. Took 0.00 seconds\n"
     ]
    },
    {
     "ename": "ZeroDivisionError",
     "evalue": "division by zero",
     "output_type": "error",
     "traceback": [
      "\u001b[1;31m---------------------------------------------------------------------------\u001b[0m",
      "\u001b[1;31mZeroDivisionError\u001b[0m                         Traceback (most recent call last)",
      "\u001b[1;32m<ipython-input-8-356b49904f86>\u001b[0m in \u001b[0;36m<module>\u001b[1;34m\u001b[0m\n\u001b[0;32m      2\u001b[0m                                    \u001b[0mday\u001b[0m\u001b[1;33m=\u001b[0m\u001b[1;34m'tuesday'\u001b[0m\u001b[1;33m,\u001b[0m\u001b[1;33m\u001b[0m\u001b[1;33m\u001b[0m\u001b[0m\n\u001b[0;32m      3\u001b[0m                                    \u001b[0mtimerange\u001b[0m\u001b[1;33m=\u001b[0m\u001b[1;33m[\u001b[0m\u001b[1;34m'00:00:00'\u001b[0m\u001b[1;33m,\u001b[0m \u001b[1;34m'23:59:59'\u001b[0m\u001b[1;33m]\u001b[0m\u001b[1;33m,\u001b[0m\u001b[1;33m\u001b[0m\u001b[1;33m\u001b[0m\u001b[0m\n\u001b[1;32m----> 4\u001b[1;33m                                    calendar_dates_lookup=None)\n\u001b[0m",
      "\u001b[1;32mC:\\ProgramData\\Anaconda3\\envs\\gds\\lib\\site-packages\\urbanaccess\\gtfs\\network.py\u001b[0m in \u001b[0;36mcreate_transit_net\u001b[1;34m(gtfsfeeds_dfs, day, timerange, calendar_dates_lookup, overwrite_existing_stop_times_int, use_existing_stop_times_int, save_processed_gtfs, save_dir, save_filename)\u001b[0m\n\u001b[0;32m    156\u001b[0m         \u001b[0mdf\u001b[0m\u001b[1;33m=\u001b[0m\u001b[0mgtfsfeeds_dfs\u001b[0m\u001b[1;33m.\u001b[0m\u001b[0mstop_times_int\u001b[0m\u001b[1;33m,\u001b[0m\u001b[1;33m\u001b[0m\u001b[1;33m\u001b[0m\u001b[0m\n\u001b[0;32m    157\u001b[0m         \u001b[0mstarttime\u001b[0m\u001b[1;33m=\u001b[0m\u001b[0mtimerange\u001b[0m\u001b[1;33m[\u001b[0m\u001b[1;36m0\u001b[0m\u001b[1;33m]\u001b[0m\u001b[1;33m,\u001b[0m\u001b[1;33m\u001b[0m\u001b[1;33m\u001b[0m\u001b[0m\n\u001b[1;32m--> 158\u001b[1;33m         endtime=timerange[1])\n\u001b[0m\u001b[0;32m    159\u001b[0m \u001b[1;33m\u001b[0m\u001b[0m\n\u001b[0;32m    160\u001b[0m     final_edge_table = _format_transit_net_edge(\n",
      "\u001b[1;32mC:\\ProgramData\\Anaconda3\\envs\\gds\\lib\\site-packages\\urbanaccess\\gtfs\\network.py\u001b[0m in \u001b[0;36m_time_selector\u001b[1;34m(df, starttime, endtime)\u001b[0m\n\u001b[0;32m    709\u001b[0m         '.2f} seconds'.format(\n\u001b[0;32m    710\u001b[0m             \u001b[0mstarttime\u001b[0m\u001b[1;33m,\u001b[0m \u001b[0mendtime\u001b[0m\u001b[1;33m,\u001b[0m \u001b[0mlen\u001b[0m\u001b[1;33m(\u001b[0m\u001b[0mselected_stop_timesdf\u001b[0m\u001b[1;33m)\u001b[0m\u001b[1;33m,\u001b[0m \u001b[0mlen\u001b[0m\u001b[1;33m(\u001b[0m\u001b[0mdf\u001b[0m\u001b[1;33m)\u001b[0m\u001b[1;33m,\u001b[0m\u001b[1;33m\u001b[0m\u001b[1;33m\u001b[0m\u001b[0m\n\u001b[1;32m--> 711\u001b[1;33m             \u001b[1;33m(\u001b[0m\u001b[0mlen\u001b[0m\u001b[1;33m(\u001b[0m\u001b[0mselected_stop_timesdf\u001b[0m\u001b[1;33m)\u001b[0m \u001b[1;33m/\u001b[0m \u001b[0mlen\u001b[0m\u001b[1;33m(\u001b[0m\u001b[0mdf\u001b[0m\u001b[1;33m)\u001b[0m\u001b[1;33m)\u001b[0m \u001b[1;33m*\u001b[0m \u001b[1;36m100\u001b[0m\u001b[1;33m,\u001b[0m\u001b[1;33m\u001b[0m\u001b[1;33m\u001b[0m\u001b[0m\n\u001b[0m\u001b[0;32m    712\u001b[0m             time.time() - start_time))\n\u001b[0;32m    713\u001b[0m \u001b[1;33m\u001b[0m\u001b[0m\n",
      "\u001b[1;31mZeroDivisionError\u001b[0m: division by zero"
     ]
    }
   ],
   "source": [
    "ua.gtfs.network.create_transit_net(gtfsfeeds_dfs=loaded_feeds,\n",
    "                                   day='tuesday',\n",
    "                                   timerange=['00:00:00', '23:59:59'],\n",
    "                                   calendar_dates_lookup=None)"
   ]
  },
  {
   "cell_type": "code",
   "execution_count": null,
   "id": "beautiful-tumor",
   "metadata": {},
   "outputs": [],
   "source": []
  }
 ],
 "metadata": {
  "kernelspec": {
   "display_name": "Python 3",
   "language": "python",
   "name": "python3"
  },
  "language_info": {
   "codemirror_mode": {
    "name": "ipython",
    "version": 3
   },
   "file_extension": ".py",
   "mimetype": "text/x-python",
   "name": "python",
   "nbconvert_exporter": "python",
   "pygments_lexer": "ipython3",
   "version": "3.7.8"
  }
 },
 "nbformat": 4,
 "nbformat_minor": 5
}
