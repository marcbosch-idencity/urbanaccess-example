{
 "cells": [
  {
   "cell_type": "markdown",
   "id": "coated-charger",
   "metadata": {},
   "source": [
    "## Cálculo de longitudes y frecuencias de las líneas de tren\n",
    "\n",
    "Esta librería determina la longitud y frecuencias diarias de todas las líneas de Renfe (AVE-Larga distancia, Media Distancia-Regional Cercanías, FGC y Euskotren-Trena) para todo el territorio español"
   ]
  },
  {
   "cell_type": "code",
   "execution_count": 7,
   "id": "exclusive-weight",
   "metadata": {},
   "outputs": [],
   "source": [
    "# importar librerías\n",
    "import pandas as pd\n",
    "import geopandas as gpd\n",
    "import urbanaccess as ua\n",
    "import pandana as pdna\n",
    "import matplotlib.pyplot as plt\n",
    "from IPython.core.interactiveshell import InteractiveShell\n",
    "InteractiveShell.ast_node_interactivity = \"all\"\n",
    "gpd.options.use_pygeos = True\n",
    "from urbanaccess.config import settings\n",
    "from urbanaccess.gtfsfeeds import feeds\n",
    "from urbanaccess import gtfsfeeds\n",
    "from urbanaccess.gtfs.gtfsfeeds_dataframe import gtfsfeeds_dfs\n",
    "from urbanaccess.network import ua_network, load_network\n",
    "import ssl\n",
    "ssl._create_default_https_context = ssl._create_unverified_context"
   ]
  },
  {
   "cell_type": "code",
   "execution_count": 2,
   "id": "understanding-klein",
   "metadata": {},
   "outputs": [
    {
     "data": {
      "text/plain": [
       "{'data_folder': 'data',\n",
       " 'logs_folder': 'logs',\n",
       " 'log_file': True,\n",
       " 'log_console': False,\n",
       " 'log_name': 'urbanaccess',\n",
       " 'log_filename': 'urbanaccess',\n",
       " 'txt_encoding': 'utf-8',\n",
       " 'gtfs_api': {'gtfsdataexch': 'http://www.gtfs-data-exchange.com/api/agencies?format=csv'}}"
      ]
     },
     "execution_count": 2,
     "metadata": {},
     "output_type": "execute_result"
    }
   ],
   "source": [
    "settings.to_dict()"
   ]
  },
  {
   "cell_type": "code",
   "execution_count": 3,
   "id": "blessed-bristol",
   "metadata": {},
   "outputs": [
    {
     "data": {
      "text/plain": [
       "{'gtfs_feeds': {}}"
      ]
     },
     "execution_count": 3,
     "metadata": {},
     "output_type": "execute_result"
    }
   ],
   "source": [
    "feeds.to_dict()"
   ]
  },
  {
   "cell_type": "code",
   "execution_count": 4,
   "id": "fifty-lottery",
   "metadata": {},
   "outputs": [
    {
     "name": "stdout",
     "output_type": "stream",
     "text": [
      "Added 1 feeds to gtfs_feeds: {'av, ld, md': 'https://ssl.renfe.com/gtransit/Fichero_AV_LD/google_transit.zip'}\n",
      "Added 1 feeds to gtfs_feeds: {'cercanias': 'https://ssl.renfe.com/ftransit/Fichero_CER_FOMENTO/fomento_transit.zip'}\n",
      "Added 1 feeds to gtfs_feeds: {'feve': 'https://data.renfe.com/dataset/5f80afa2-798c-46a4-8f96-bca0835b3cf0/resource/e593b825-78c2-45e1-a8ca-9fbea2f3faff/download/horarios-feve.zip'}\n",
      "Added 1 feeds to gtfs_feeds: {'fgc': 'https://www.fgc.cat/google/google_transit.zip'}\n",
      "Added 1 feeds to gtfs_feeds: {'euskotren': 'https://gtfs.euskotren.eus/Euskotren_gtfs.zip'}\n"
     ]
    }
   ],
   "source": [
    "feeds.add_feed(add_dict={'av, ld, md': 'https://ssl.renfe.com/gtransit/Fichero_AV_LD/google_transit.zip'})\n",
    "feeds.add_feed(add_dict={'cercanias': 'https://ssl.renfe.com/ftransit/Fichero_CER_FOMENTO/fomento_transit.zip'})\n",
    "feeds.add_feed(add_dict={'feve': 'https://data.renfe.com/dataset/5f80afa2-798c-46a4-8f96-bca0835b3cf0/resource/e593b825-78c2-45e1-a8ca-9fbea2f3faff/download/horarios-feve.zip'})\n",
    "feeds.add_feed(add_dict={'fgc': 'https://www.fgc.cat/google/google_transit.zip'})\n",
    "feeds.add_feed(add_dict={'euskotren': 'https://gtfs.euskotren.eus/Euskotren_gtfs.zip'})"
   ]
  },
  {
   "cell_type": "code",
   "execution_count": 5,
   "id": "built-parks",
   "metadata": {},
   "outputs": [
    {
     "data": {
      "text/plain": [
       "{'gtfs_feeds': {'av, ld, md': 'https://ssl.renfe.com/gtransit/Fichero_AV_LD/google_transit.zip',\n",
       "  'cercanias': 'https://ssl.renfe.com/ftransit/Fichero_CER_FOMENTO/fomento_transit.zip',\n",
       "  'feve': 'https://data.renfe.com/dataset/5f80afa2-798c-46a4-8f96-bca0835b3cf0/resource/e593b825-78c2-45e1-a8ca-9fbea2f3faff/download/horarios-feve.zip',\n",
       "  'fgc': 'https://www.fgc.cat/google/google_transit.zip',\n",
       "  'euskotren': 'https://gtfs.euskotren.eus/Euskotren_gtfs.zip'}}"
      ]
     },
     "execution_count": 5,
     "metadata": {},
     "output_type": "execute_result"
    }
   ],
   "source": [
    "feeds.to_dict()"
   ]
  },
  {
   "cell_type": "code",
   "execution_count": 8,
   "id": "forward-nigeria",
   "metadata": {},
   "outputs": [
    {
     "name": "stdout",
     "output_type": "stream",
     "text": [
      "5 GTFS feed(s) will be downloaded here: data\\gtfsfeed_zips\n",
      "av, ld, md GTFS feed downloaded successfully. Took 0.68 seconds for 800,162.0KB\n",
      "cercanias GTFS feed downloaded successfully. Took 5.48 seconds for 9,666,295.0KB\n",
      "feve GTFS feed downloaded successfully. Took 0.83 seconds for 237,025.0KB\n",
      "fgc GTFS feed downloaded successfully. Took 1.27 seconds for 2,263,741.0KB\n",
      "euskotren GTFS feed downloaded successfully. Took 1.18 seconds for 1,777,418.0KB\n",
      "GTFS feed download completed. Took 9.44 seconds\n",
      "av, ld, md.zip successfully extracted to: data\\gtfsfeed_text\\av, ld, md\n",
      "cercanias.zip successfully extracted to: data\\gtfsfeed_text\\cercanias\n",
      "euskotren.zip successfully extracted to: data\\gtfsfeed_text\\euskotren\n",
      "feve.zip successfully extracted to: data\\gtfsfeed_text\\feve\n",
      "fgc.zip successfully extracted to: data\\gtfsfeed_text\\fgc\n",
      "GTFS feed zipfile extraction completed. Took 0.51 seconds for 5 files\n"
     ]
    }
   ],
   "source": [
    "gtfsfeeds.download()"
   ]
  },
  {
   "cell_type": "code",
   "execution_count": 9,
   "id": "computational-coach",
   "metadata": {},
   "outputs": [
    {
     "name": "stdout",
     "output_type": "stream",
     "text": [
      "Checking GTFS text file header whitespace... Reading files using encoding: utf-8 set in configuration.\n",
      "Removing whitespace from header(s) in: data\\gtfsfeed_text\\av, ld, md\\agency.txt...\n",
      "Removing whitespace from header(s) in: data\\gtfsfeed_text\\av, ld, md\\calendar.txt...\n",
      "Removing whitespace from header(s) in: data\\gtfsfeed_text\\av, ld, md\\calendar_dates.txt...\n",
      "Removing whitespace from header(s) in: data\\gtfsfeed_text\\av, ld, md\\routes.txt...\n",
      "Removing whitespace from header(s) in: data\\gtfsfeed_text\\av, ld, md\\stops.txt...\n",
      "Removing whitespace from header(s) in: data\\gtfsfeed_text\\av, ld, md\\stop_times.txt...\n",
      "Removing whitespace from header(s) in: data\\gtfsfeed_text\\av, ld, md\\trips.txt...\n",
      "GTFS text file header whitespace check completed. Took 0.54 seconds\n",
      "--------------------------------\n",
      "Processing GTFS feed: av, ld, md\n",
      "The unique agency id: renfe_operadora was generated using the name of the agency in the agency.txt file.\n",
      "Unique agency id operation complete. Took 0.01 seconds\n",
      "Unique GTFS feed id operation complete. Took 0.00 seconds\n",
      "No GTFS feed stops were found to be outside the bounding box coordinates\n",
      "av, ld, md GTFS feed stops: coordinates are in northwest hemisphere. Latitude = North (90); Longitude = West (-90).\n",
      "av, ld, md GTFS feed stops: coordinates are in northeast hemisphere. Latitude = North (90); Longitude = East (90).\n",
      "Appended route type to stops\n",
      "Appended route type to stop_times\n",
      "--------------------------------\n",
      "--------------------------------\n",
      "Processing GTFS feed: cercanias\n",
      "The unique agency id: renfe_cercanias was generated using the name of the agency in the agency.txt file.\n",
      "Unique agency id operation complete. Took 0.04 seconds\n",
      "Unique GTFS feed id operation complete. Took 0.01 seconds\n",
      "No GTFS feed stops were found to be outside the bounding box coordinates\n",
      "cercanias GTFS feed stops: coordinates are in northwest hemisphere. Latitude = North (90); Longitude = West (-90).\n",
      "cercanias GTFS feed stops: coordinates are in northeast hemisphere. Latitude = North (90); Longitude = East (90).\n",
      "Appended route type to stops\n",
      "Appended route type to stop_times\n",
      "--------------------------------\n",
      "--------------------------------\n",
      "Processing GTFS feed: euskotren\n",
      "The agency.txt or agency_id column was not found. The unique agency id: euskotren was generated using the name of the folder containing the GTFS feed text files.\n",
      "Unique agency id operation complete. Took 0.02 seconds\n",
      "Unique GTFS feed id operation complete. Took 0.00 seconds\n",
      "No GTFS feed stops were found to be outside the bounding box coordinates\n",
      "euskotren GTFS feed stops: coordinates are in northwest hemisphere. Latitude = North (90); Longitude = West (-90).\n",
      "Appended route type to stops\n",
      "Appended route type to stop_times\n",
      "--------------------------------\n",
      "--------------------------------\n",
      "Processing GTFS feed: feve\n",
      "The unique agency id: feve was generated using the name of the agency in the agency.txt file.\n",
      "Unique agency id operation complete. Took 0.01 seconds\n",
      "Unique GTFS feed id operation complete. Took 0.00 seconds\n",
      "No GTFS feed stops were found to be outside the bounding box coordinates\n",
      "feve GTFS feed stops: coordinates are in northwest hemisphere. Latitude = North (90); Longitude = West (-90).\n",
      "Appended route type to stops\n",
      "Appended route type to stop_times\n",
      "--------------------------------\n",
      "--------------------------------\n",
      "Processing GTFS feed: fgc\n",
      "The agency.txt or agency_id column was not found. The unique agency id: fgc was generated using the name of the folder containing the GTFS feed text files.\n",
      "Unique agency id operation complete. Took 0.02 seconds\n",
      "Unique GTFS feed id operation complete. Took 0.00 seconds\n",
      "No GTFS feed stops were found to be outside the bounding box coordinates\n",
      "fgc GTFS feed stops: coordinates are in northeast hemisphere. Latitude = North (90); Longitude = East (90).\n",
      "Appended route type to stops\n",
      "Appended route type to stop_times\n",
      "--------------------------------\n",
      "Added descriptive definitions to stops, routes, stop_times, and trips tables\n",
      "Successfully converted ['departure_time'] to seconds past midnight and appended new columns to stop_times. Took 3.37 seconds\n",
      "5 GTFS feed file(s) successfully read as dataframes:\n",
      "     av, ld, md\n",
      "     cercanias\n",
      "     euskotren\n",
      "     feve\n",
      "     fgc\n",
      "     Took 9.75 seconds\n"
     ]
    }
   ],
   "source": [
    "#crear xarxa\n",
    "validation = True\n",
    "verbose = True\n",
    "bbox = (-9.83,35.98,4.89,44.04)\n",
    "remove_stops_outsidebbox = True\n",
    "append_definitions = True\n",
    "\n",
    "loaded_feeds = ua.gtfs.load.gtfsfeed_to_df(gtfsfeed_path=None,\n",
    "                                           validation=validation,\n",
    "                                           verbose=verbose,\n",
    "                                           bbox=bbox,\n",
    "                                           remove_stops_outsidebbox=remove_stops_outsidebbox,\n",
    "                                           append_definitions=append_definitions)"
   ]
  },
  {
   "cell_type": "code",
   "execution_count": 10,
   "id": "pressing-contents",
   "metadata": {},
   "outputs": [
    {
     "data": {
      "text/plain": [
       "<AxesSubplot:xlabel='stop_lon', ylabel='stop_lat'>"
      ]
     },
     "execution_count": 10,
     "metadata": {},
     "output_type": "execute_result"
    },
    {
     "data": {
      "image/png": "[encoded data removed]",
      "text/plain": [
       "<Figure size 432x288 with 1 Axes>"
      ]
     },
     "metadata": {
      "needs_background": "light"
     },
     "output_type": "display_data"
    }
   ],
   "source": [
    "loaded_feeds.stops.plot(kind='scatter', x='stop_lon', y='stop_lat', s=0.1)"
   ]
  },
  {
   "cell_type": "code",
   "execution_count": 14,
   "id": "loose-webster",
   "metadata": {},
   "outputs": [
    {
     "name": "stdout",
     "output_type": "stream",
     "text": [
      "WARNING: Time range passed: ['00:00:00', '23:59:59'] is a 23 hour period. Long periods over 3 hours may take a significant amount of time to process.\n",
      "Using calendar to extract service_ids to select trips.\n",
      "11,962 service_ids were extracted from calendar\n",
      "30,527 trip(s) 19.30 percent of 158,178 total trip records were found in calendar for GTFS feed(s): ['av, ld, md', 'cercanias', 'euskotren', 'feve']\n",
      "0 trip(s) 0 percent of 158,178 total trip records were found in calendar for GTFS feed: fgc\n",
      "NOTE: If you expected more trips to have been extracted and your GTFS feed(s) have a calendar_dates file, consider utilizing the calendar_dates_lookup parameter in order to add additional trips based on information inside of calendar_dates. This should only be done if you know the corresponding GTFS feed is using calendar_dates instead of calendar to specify service_ids. When in doubt do not use the calendar_dates_lookup parameter.\n",
      "30,527 of 158,178 total trips were extracted representing calendar day: tuesday. Took 0.18 seconds\n",
      "There are no departure time records missing from trips following the specified schedule. There are no records to interpolate.\n",
      "Difference between stop times has been successfully calculated. Took 2.57 seconds\n",
      "Stop times from 00:00:00 to 23:59:59 successfully selected 129,659 records out of 129,670 total records (99.99 percent of total). Took 0.04 seconds\n",
      "Starting transformation process for 16,470 total trips...\n",
      "stop time table transformation to Pandana format edge table completed. Took 21.63 seconds\n",
      "Time conversion completed: seconds converted to minutes.\n",
      "1,382 of 2,422 records selected from stops. Took 0.01 seconds\n",
      "stop time table transformation to Pandana format node table completed. Took 0.00 seconds\n",
      "route type successfully joined to transit edges. Took 1.05 seconds\n",
      "route id successfully joined to transit edges. Took 0.14 seconds\n",
      "Successfully created transit network. Took 27.03 seconds\n"
     ]
    },
    {
     "data": {
      "text/plain": [
       "<urbanaccess.network.urbanaccess_network at 0x2d4ed290a88>"
      ]
     },
     "execution_count": 14,
     "metadata": {},
     "output_type": "execute_result"
    }
   ],
   "source": [
    "ua.gtfs.network.create_transit_net(gtfsfeeds_dfs=loaded_feeds,\n",
    "                                   day='tuesday',\n",
    "                                   timerange=['00:00:00', '23:59:59'],\n",
    "                                   calendar_dates_lookup=None)"
   ]
  },
  {
   "cell_type": "code",
   "execution_count": 15,
   "id": "attempted-hammer",
   "metadata": {},
   "outputs": [],
   "source": [
    "urbanaccess_net = ua.network.ua_network"
   ]
  },
  {
   "cell_type": "code",
   "execution_count": 16,
   "id": "obvious-maple",
   "metadata": {},
   "outputs": [
    {
     "data": {
      "text/plain": [
       "<AxesSubplot:xlabel='x', ylabel='y'>"
      ]
     },
     "execution_count": 16,
     "metadata": {},
     "output_type": "execute_result"
    },
    {
     "data": {
      "image/png": "[encoded data removed]",
      "text/plain": [
       "<Figure size 432x288 with 1 Axes>"
      ]
     },
     "metadata": {
      "needs_background": "light"
     },
     "output_type": "display_data"
    }
   ],
   "source": [
    "urbanaccess_net.transit_nodes.plot(kind='scatter', x='x', y='y', s=0.1)"
   ]
  },
  {
   "cell_type": "code",
   "execution_count": 17,
   "id": "prescription-assist",
   "metadata": {},
   "outputs": [
    {
     "data": {
      "text/html": [
       "<div>\n",
       "<style scoped>\n",
       "    .dataframe tbody tr th:only-of-type {\n",
       "        vertical-align: middle;\n",
       "    }\n",
       "\n",
       "    .dataframe tbody tr th {\n",
       "        vertical-align: top;\n",
       "    }\n",
       "\n",
       "    .dataframe thead th {\n",
       "        text-align: right;\n",
       "    }\n",
       "</style>\n",
       "<table border=\"1\" class=\"dataframe\">\n",
       "  <thead>\n",
       "    <tr style=\"text-align: right;\">\n",
       "      <th></th>\n",
       "      <th>x</th>\n",
       "      <th>y</th>\n",
       "      <th>unique_agency_id</th>\n",
       "      <th>route_type</th>\n",
       "      <th>stop_id</th>\n",
       "      <th>stop_name</th>\n",
       "      <th>parent_station</th>\n",
       "      <th>stop_code</th>\n",
       "      <th>wheelchair_boarding</th>\n",
       "      <th>zone_id</th>\n",
       "      <th>location_type</th>\n",
       "      <th>net_type</th>\n",
       "    </tr>\n",
       "    <tr>\n",
       "      <th>node_id</th>\n",
       "      <th></th>\n",
       "      <th></th>\n",
       "      <th></th>\n",
       "      <th></th>\n",
       "      <th></th>\n",
       "      <th></th>\n",
       "      <th></th>\n",
       "      <th></th>\n",
       "      <th></th>\n",
       "      <th></th>\n",
       "      <th></th>\n",
       "      <th></th>\n",
       "    </tr>\n",
       "  </thead>\n",
       "  <tbody>\n",
       "    <tr>\n",
       "      <th>71801_renfe_operadora</th>\n",
       "      <td>2.140624</td>\n",
       "      <td>41.379220</td>\n",
       "      <td>renfe_operadora</td>\n",
       "      <td>2.0</td>\n",
       "      <td>71801</td>\n",
       "      <td>Barcelona-Sants</td>\n",
       "      <td>NaN</td>\n",
       "      <td>NaN</td>\n",
       "      <td>NaN</td>\n",
       "      <td>NaN</td>\n",
       "      <td>NaN</td>\n",
       "      <td>transit</td>\n",
       "    </tr>\n",
       "    <tr>\n",
       "      <th>61307_renfe_operadora</th>\n",
       "      <td>-0.975122</td>\n",
       "      <td>37.604967</td>\n",
       "      <td>renfe_operadora</td>\n",
       "      <td>2.0</td>\n",
       "      <td>61307</td>\n",
       "      <td>Cartagena</td>\n",
       "      <td>NaN</td>\n",
       "      <td>NaN</td>\n",
       "      <td>NaN</td>\n",
       "      <td>NaN</td>\n",
       "      <td>NaN</td>\n",
       "      <td>transit</td>\n",
       "    </tr>\n",
       "    <tr>\n",
       "      <th>61304_renfe_operadora</th>\n",
       "      <td>-0.967078</td>\n",
       "      <td>37.746905</td>\n",
       "      <td>renfe_operadora</td>\n",
       "      <td>2.0</td>\n",
       "      <td>61304</td>\n",
       "      <td>Torre-Pacheco</td>\n",
       "      <td>NaN</td>\n",
       "      <td>NaN</td>\n",
       "      <td>NaN</td>\n",
       "      <td>NaN</td>\n",
       "      <td>NaN</td>\n",
       "      <td>transit</td>\n",
       "    </tr>\n",
       "    <tr>\n",
       "      <th>61303_renfe_operadora</th>\n",
       "      <td>-0.950891</td>\n",
       "      <td>37.818840</td>\n",
       "      <td>renfe_operadora</td>\n",
       "      <td>2.0</td>\n",
       "      <td>61303</td>\n",
       "      <td>Balsicas-Mar Menor</td>\n",
       "      <td>NaN</td>\n",
       "      <td>NaN</td>\n",
       "      <td>NaN</td>\n",
       "      <td>NaN</td>\n",
       "      <td>NaN</td>\n",
       "      <td>transit</td>\n",
       "    </tr>\n",
       "    <tr>\n",
       "      <th>61200_renfe_operadora</th>\n",
       "      <td>-1.129955</td>\n",
       "      <td>37.974650</td>\n",
       "      <td>renfe_operadora</td>\n",
       "      <td>2.0</td>\n",
       "      <td>61200</td>\n",
       "      <td>Murcia</td>\n",
       "      <td>NaN</td>\n",
       "      <td>NaN</td>\n",
       "      <td>NaN</td>\n",
       "      <td>NaN</td>\n",
       "      <td>NaN</td>\n",
       "      <td>transit</td>\n",
       "    </tr>\n",
       "  </tbody>\n",
       "</table>\n",
       "</div>"
      ],
      "text/plain": [
       "                              x          y unique_agency_id  route_type  \\\n",
       "node_id                                                                   \n",
       "71801_renfe_operadora  2.140624  41.379220  renfe_operadora         2.0   \n",
       "61307_renfe_operadora -0.975122  37.604967  renfe_operadora         2.0   \n",
       "61304_renfe_operadora -0.967078  37.746905  renfe_operadora         2.0   \n",
       "61303_renfe_operadora -0.950891  37.818840  renfe_operadora         2.0   \n",
       "61200_renfe_operadora -1.129955  37.974650  renfe_operadora         2.0   \n",
       "\n",
       "                      stop_id           stop_name parent_station  stop_code  \\\n",
       "node_id                                                                       \n",
       "71801_renfe_operadora   71801     Barcelona-Sants            NaN        NaN   \n",
       "61307_renfe_operadora   61307           Cartagena            NaN        NaN   \n",
       "61304_renfe_operadora   61304       Torre-Pacheco            NaN        NaN   \n",
       "61303_renfe_operadora   61303  Balsicas-Mar Menor            NaN        NaN   \n",
       "61200_renfe_operadora   61200              Murcia            NaN        NaN   \n",
       "\n",
       "                       wheelchair_boarding  zone_id  location_type net_type  \n",
       "node_id                                                                      \n",
       "71801_renfe_operadora                  NaN      NaN            NaN  transit  \n",
       "61307_renfe_operadora                  NaN      NaN            NaN  transit  \n",
       "61304_renfe_operadora                  NaN      NaN            NaN  transit  \n",
       "61303_renfe_operadora                  NaN      NaN            NaN  transit  \n",
       "61200_renfe_operadora                  NaN      NaN            NaN  transit  "
      ]
     },
     "execution_count": 17,
     "metadata": {},
     "output_type": "execute_result"
    }
   ],
   "source": [
    "urbanaccess_net.transit_nodes.head()"
   ]
  },
  {
   "cell_type": "code",
   "execution_count": 18,
   "id": "completed-improvement",
   "metadata": {},
   "outputs": [
    {
     "data": {
      "text/html": [
       "<div>\n",
       "<style scoped>\n",
       "    .dataframe tbody tr th:only-of-type {\n",
       "        vertical-align: middle;\n",
       "    }\n",
       "\n",
       "    .dataframe tbody tr th {\n",
       "        vertical-align: top;\n",
       "    }\n",
       "\n",
       "    .dataframe thead th {\n",
       "        text-align: right;\n",
       "    }\n",
       "</style>\n",
       "<table border=\"1\" class=\"dataframe\">\n",
       "  <thead>\n",
       "    <tr style=\"text-align: right;\">\n",
       "      <th></th>\n",
       "      <th>stop_id</th>\n",
       "      <th>stop_code</th>\n",
       "      <th>stop_name</th>\n",
       "      <th>stop_desc</th>\n",
       "      <th>stop_lat</th>\n",
       "      <th>stop_lon</th>\n",
       "      <th>zone_id</th>\n",
       "      <th>stop_url</th>\n",
       "      <th>location_type</th>\n",
       "      <th>parent_station</th>\n",
       "      <th>stop_timezone</th>\n",
       "      <th>unique_agency_id</th>\n",
       "      <th>unique_feed_id</th>\n",
       "      <th>route_type</th>\n",
       "      <th>wheelchair_boarding</th>\n",
       "      <th>location_type_desc</th>\n",
       "      <th>wheelchair_boarding_desc</th>\n",
       "      <th>unique_stop_id</th>\n",
       "    </tr>\n",
       "  </thead>\n",
       "  <tbody>\n",
       "    <tr>\n",
       "      <th>0</th>\n",
       "      <td>71801</td>\n",
       "      <td>NaN</td>\n",
       "      <td>Barcelona-Sants</td>\n",
       "      <td>NaN</td>\n",
       "      <td>41.379220</td>\n",
       "      <td>2.140624</td>\n",
       "      <td>NaN</td>\n",
       "      <td>NaN</td>\n",
       "      <td>NaN</td>\n",
       "      <td>NaN</td>\n",
       "      <td>Europe/Madrid                                 ...</td>\n",
       "      <td>renfe_operadora</td>\n",
       "      <td>av,_ld,_md_1</td>\n",
       "      <td>2.0</td>\n",
       "      <td>NaN</td>\n",
       "      <td>None</td>\n",
       "      <td>None</td>\n",
       "      <td>71801_renfe_operadora</td>\n",
       "    </tr>\n",
       "    <tr>\n",
       "      <th>1</th>\n",
       "      <td>61307</td>\n",
       "      <td>NaN</td>\n",
       "      <td>Cartagena</td>\n",
       "      <td>NaN</td>\n",
       "      <td>37.604967</td>\n",
       "      <td>-0.975122</td>\n",
       "      <td>NaN</td>\n",
       "      <td>NaN</td>\n",
       "      <td>NaN</td>\n",
       "      <td>NaN</td>\n",
       "      <td>Europe/Madrid                                 ...</td>\n",
       "      <td>renfe_operadora</td>\n",
       "      <td>av,_ld,_md_1</td>\n",
       "      <td>2.0</td>\n",
       "      <td>NaN</td>\n",
       "      <td>None</td>\n",
       "      <td>None</td>\n",
       "      <td>61307_renfe_operadora</td>\n",
       "    </tr>\n",
       "    <tr>\n",
       "      <th>2</th>\n",
       "      <td>61304</td>\n",
       "      <td>NaN</td>\n",
       "      <td>Torre-Pacheco</td>\n",
       "      <td>NaN</td>\n",
       "      <td>37.746905</td>\n",
       "      <td>-0.967078</td>\n",
       "      <td>NaN</td>\n",
       "      <td>NaN</td>\n",
       "      <td>NaN</td>\n",
       "      <td>NaN</td>\n",
       "      <td>Europe/Madrid                                 ...</td>\n",
       "      <td>renfe_operadora</td>\n",
       "      <td>av,_ld,_md_1</td>\n",
       "      <td>2.0</td>\n",
       "      <td>NaN</td>\n",
       "      <td>None</td>\n",
       "      <td>None</td>\n",
       "      <td>61304_renfe_operadora</td>\n",
       "    </tr>\n",
       "    <tr>\n",
       "      <th>3</th>\n",
       "      <td>61303</td>\n",
       "      <td>NaN</td>\n",
       "      <td>Balsicas-Mar Menor</td>\n",
       "      <td>NaN</td>\n",
       "      <td>37.818840</td>\n",
       "      <td>-0.950891</td>\n",
       "      <td>NaN</td>\n",
       "      <td>NaN</td>\n",
       "      <td>NaN</td>\n",
       "      <td>NaN</td>\n",
       "      <td>Europe/Madrid                                 ...</td>\n",
       "      <td>renfe_operadora</td>\n",
       "      <td>av,_ld,_md_1</td>\n",
       "      <td>2.0</td>\n",
       "      <td>NaN</td>\n",
       "      <td>None</td>\n",
       "      <td>None</td>\n",
       "      <td>61303_renfe_operadora</td>\n",
       "    </tr>\n",
       "    <tr>\n",
       "      <th>4</th>\n",
       "      <td>61200</td>\n",
       "      <td>NaN</td>\n",
       "      <td>Murcia</td>\n",
       "      <td>NaN</td>\n",
       "      <td>37.974650</td>\n",
       "      <td>-1.129955</td>\n",
       "      <td>NaN</td>\n",
       "      <td>NaN</td>\n",
       "      <td>NaN</td>\n",
       "      <td>NaN</td>\n",
       "      <td>Europe/Madrid                                 ...</td>\n",
       "      <td>renfe_operadora</td>\n",
       "      <td>av,_ld,_md_1</td>\n",
       "      <td>2.0</td>\n",
       "      <td>NaN</td>\n",
       "      <td>None</td>\n",
       "      <td>None</td>\n",
       "      <td>61200_renfe_operadora</td>\n",
       "    </tr>\n",
       "  </tbody>\n",
       "</table>\n",
       "</div>"
      ],
      "text/plain": [
       "  stop_id  stop_code           stop_name  stop_desc   stop_lat  stop_lon  \\\n",
       "0   71801        NaN     Barcelona-Sants        NaN  41.379220  2.140624   \n",
       "1   61307        NaN           Cartagena        NaN  37.604967 -0.975122   \n",
       "2   61304        NaN       Torre-Pacheco        NaN  37.746905 -0.967078   \n",
       "3   61303        NaN  Balsicas-Mar Menor        NaN  37.818840 -0.950891   \n",
       "4   61200        NaN              Murcia        NaN  37.974650 -1.129955   \n",
       "\n",
       "   zone_id  stop_url  location_type parent_station  \\\n",
       "0      NaN       NaN            NaN            NaN   \n",
       "1      NaN       NaN            NaN            NaN   \n",
       "2      NaN       NaN            NaN            NaN   \n",
       "3      NaN       NaN            NaN            NaN   \n",
       "4      NaN       NaN            NaN            NaN   \n",
       "\n",
       "                                       stop_timezone unique_agency_id  \\\n",
       "0  Europe/Madrid                                 ...  renfe_operadora   \n",
       "1  Europe/Madrid                                 ...  renfe_operadora   \n",
       "2  Europe/Madrid                                 ...  renfe_operadora   \n",
       "3  Europe/Madrid                                 ...  renfe_operadora   \n",
       "4  Europe/Madrid                                 ...  renfe_operadora   \n",
       "\n",
       "  unique_feed_id  route_type  wheelchair_boarding location_type_desc  \\\n",
       "0   av,_ld,_md_1         2.0                  NaN               None   \n",
       "1   av,_ld,_md_1         2.0                  NaN               None   \n",
       "2   av,_ld,_md_1         2.0                  NaN               None   \n",
       "3   av,_ld,_md_1         2.0                  NaN               None   \n",
       "4   av,_ld,_md_1         2.0                  NaN               None   \n",
       "\n",
       "  wheelchair_boarding_desc         unique_stop_id  \n",
       "0                     None  71801_renfe_operadora  \n",
       "1                     None  61307_renfe_operadora  \n",
       "2                     None  61304_renfe_operadora  \n",
       "3                     None  61303_renfe_operadora  \n",
       "4                     None  61200_renfe_operadora  "
      ]
     },
     "execution_count": 18,
     "metadata": {},
     "output_type": "execute_result"
    }
   ],
   "source": [
    "loaded_feeds.stops.head()"
   ]
  },
  {
   "cell_type": "code",
   "execution_count": 20,
   "id": "unable-statement",
   "metadata": {},
   "outputs": [
    {
     "name": "stdout",
     "output_type": "stream",
     "text": [
      "<class 'pandas.core.frame.DataFrame'>\n",
      "RangeIndex: 2422 entries, 0 to 2421\n",
      "Data columns (total 18 columns):\n",
      " #   Column                    Non-Null Count  Dtype  \n",
      "---  ------                    --------------  -----  \n",
      " 0   stop_id                   2421 non-null   object \n",
      " 1   stop_code                 0 non-null      float64\n",
      " 2   stop_name                 2422 non-null   object \n",
      " 3   stop_desc                 0 non-null      float64\n",
      " 4   stop_lat                  2422 non-null   float64\n",
      " 5   stop_lon                  2422 non-null   float64\n",
      " 6   zone_id                   0 non-null      float64\n",
      " 7   stop_url                  0 non-null      float64\n",
      " 8   location_type             1121 non-null   float64\n",
      " 9   parent_station            621 non-null    object \n",
      " 10  stop_timezone             761 non-null    object \n",
      " 11  unique_agency_id          2422 non-null   object \n",
      " 12  unique_feed_id            2422 non-null   object \n",
      " 13  route_type                1481 non-null   float64\n",
      " 14  wheelchair_boarding       99 non-null     float64\n",
      " 15  location_type_desc        1121 non-null   object \n",
      " 16  wheelchair_boarding_desc  99 non-null     object \n",
      " 17  unique_stop_id            2421 non-null   object \n",
      "dtypes: float64(9), object(9)\n",
      "memory usage: 340.7+ KB\n",
      "<class 'pandas.core.frame.DataFrame'>\n",
      "Index: 1382 entries, 71801_renfe_operadora to FV0671_feve\n",
      "Data columns (total 12 columns):\n",
      " #   Column               Non-Null Count  Dtype  \n",
      "---  ------               --------------  -----  \n",
      " 0   x                    1382 non-null   float64\n",
      " 1   y                    1382 non-null   float64\n",
      " 2   unique_agency_id     1382 non-null   object \n",
      " 3   route_type           1382 non-null   float64\n",
      " 4   stop_id              1382 non-null   object \n",
      " 5   stop_name            1382 non-null   object \n",
      " 6   parent_station       621 non-null    object \n",
      " 7   stop_code            0 non-null      float64\n",
      " 8   wheelchair_boarding  0 non-null      float64\n",
      " 9   zone_id              0 non-null      float64\n",
      " 10  location_type        621 non-null    float64\n",
      " 11  net_type             1382 non-null   object \n",
      "dtypes: float64(7), object(5)\n",
      "memory usage: 140.4+ KB\n"
     ]
    }
   ],
   "source": [
    "loaded_feeds.stops.info()\n",
    "urbanaccess_net.transit_nodes.info()"
   ]
  },
  {
   "cell_type": "code",
   "execution_count": null,
   "id": "completed-steel",
   "metadata": {},
   "outputs": [],
   "source": [
    "boolean = not loaded_feeds.stops[col].is_unique      # True (credit to @Carsten)\n",
    "boolean = df[col].duplicated().any() # True"
   ]
  },
  {
   "cell_type": "code",
   "execution_count": 22,
   "id": "complex-desktop",
   "metadata": {},
   "outputs": [
    {
     "name": "stdout",
     "output_type": "stream",
     "text": [
      "stop_id\n",
      "True\n",
      "stop_code\n",
      "True\n",
      "stop_name\n",
      "True\n",
      "stop_desc\n",
      "True\n",
      "stop_lat\n",
      "True\n",
      "stop_lon\n",
      "True\n",
      "zone_id\n",
      "True\n",
      "stop_url\n",
      "True\n",
      "location_type\n",
      "True\n",
      "parent_station\n",
      "True\n",
      "stop_timezone\n",
      "True\n",
      "unique_agency_id\n",
      "True\n",
      "unique_feed_id\n",
      "True\n",
      "route_type\n",
      "True\n",
      "wheelchair_boarding\n",
      "True\n",
      "location_type_desc\n",
      "True\n",
      "wheelchair_boarding_desc\n",
      "True\n",
      "unique_stop_id\n",
      "False\n"
     ]
    }
   ],
   "source": [
    "for col in loaded_feeds.stops.columns:\n",
    "    boolean = not loaded_feeds.stops[col].is_unique\n",
    "    boolean = loaded_feeds.stops[col].duplicated().any()\n",
    "    print(col)\n",
    "    print(boolean)"
   ]
  },
  {
   "cell_type": "code",
   "execution_count": 24,
   "id": "successful-spyware",
   "metadata": {},
   "outputs": [
    {
     "data": {
      "text/plain": [
       "<AxesSubplot:xlabel='stop_lon', ylabel='stop_lat'>"
      ]
     },
     "execution_count": 24,
     "metadata": {},
     "output_type": "execute_result"
    },
    {
     "data": {
      "text/plain": [
       "<AxesSubplot:xlabel='x', ylabel='y'>"
      ]
     },
     "execution_count": 24,
     "metadata": {},
     "output_type": "execute_result"
    },
    {
     "data": {
      "image/png": "[encoded data removed]",
      "text/plain": [
       "<Figure size 1080x1080 with 1 Axes>"
      ]
     },
     "metadata": {
      "needs_background": "light"
     },
     "output_type": "display_data"
    }
   ],
   "source": [
    "# plot. Blue are total stops, red are stops in the node\n",
    "f, ax = plt.subplots(figsize=(15,15))\n",
    "loaded_feeds.stops.plot(ax=ax, kind='scatter', x='stop_lon', y='stop_lat', s=1, color = \"blue\")\n",
    "urbanaccess_net.transit_nodes.plot(ax=ax, kind='scatter', x='x', y='y', s=1, color = \"red\")"
   ]
  },
  {
   "cell_type": "code",
   "execution_count": null,
   "id": "passing-square",
   "metadata": {},
   "outputs": [],
   "source": []
  }
 ],
 "metadata": {
  "kernelspec": {
   "display_name": "Python 3",
   "language": "python",
   "name": "python3"
  },
  "language_info": {
   "codemirror_mode": {
    "name": "ipython",
    "version": 3
   },
   "file_extension": ".py",
   "mimetype": "text/x-python",
   "name": "python",
   "nbconvert_exporter": "python",
   "pygments_lexer": "ipython3",
   "version": "3.7.8"
  }
 },
 "nbformat": 4,
 "nbformat_minor": 5
}
